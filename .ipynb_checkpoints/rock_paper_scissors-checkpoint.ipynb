{
 "cells": [
  {
   "cell_type": "code",
   "execution_count": 1,
   "metadata": {},
   "outputs": [],
   "source": [
    "import tensorflow as tf\n",
    "import os\n",
    "import matplotlib.pyplot as plt\n",
    "import cv2\n",
    "import pandas as pd"
   ]
  },
  {
   "cell_type": "code",
   "execution_count": 2,
   "metadata": {},
   "outputs": [
    {
     "name": "stdout",
     "output_type": "stream",
     "text": [
      "total training rock images : 840\n",
      "total training paper images : 840\n",
      "total training scissors images : 840\n",
      "total validation rock images : 124\n",
      "total validation paper images : 124\n",
      "total validation scissors images : 124\n"
     ]
    }
   ],
   "source": [
    "train_dir = 'rps/'\n",
    "valid_dir = 'rps-test-set/'\n",
    "\n",
    "print('total training rock images :', len(os.listdir(train_dir + 'rock')))\n",
    "print('total training paper images :', len(os.listdir(train_dir + 'paper')))\n",
    "print('total training scissors images :', len(os.listdir(train_dir + 'scissors')))\n",
    "\n",
    "print('total validation rock images :', len(os.listdir(valid_dir + 'rock')))\n",
    "print('total validation paper images :', len(os.listdir(valid_dir + 'paper')))\n",
    "print('total validation scissors images :', len(os.listdir(valid_dir + 'scissors')))"
   ]
  },
  {
   "cell_type": "code",
   "execution_count": 3,
   "metadata": {},
   "outputs": [],
   "source": [
    "train_rock_images = os.listdir(train_dir + 'rock')\n",
    "train_paper_images = os.listdir(train_dir + 'paper')\n",
    "train_scissors_images = os.listdir(train_dir + 'scissors')\n",
    "\n",
    "names = {\n",
    "    'rock' : train_rock_images,\n",
    "    'paper' : train_paper_images,\n",
    "    'scissors' : train_scissors_images\n",
    "}\n",
    "\n",
    "train_df = pd.DataFrame(names)\n",
    "\n",
    "valid_rock_images = os.listdir(valid_dir + 'rock')\n",
    "valid_paper_images = os.listdir(valid_dir + 'paper')\n",
    "valid_scissors_images = os.listdir(valid_dir + 'scissors')\n",
    "\n",
    "names = {\n",
    "    'rock' : valid_rock_images,\n",
    "    'paper' : valid_paper_images,\n",
    "    'scissors' : valid_scissors_images\n",
    "}\n",
    "\n",
    "valid_df = pd.DataFrame(names)"
   ]
  },
  {
   "cell_type": "code",
   "execution_count": 4,
   "metadata": {},
   "outputs": [
    {
     "data": {
      "text/html": [
       "<div>\n",
       "<style scoped>\n",
       "    .dataframe tbody tr th:only-of-type {\n",
       "        vertical-align: middle;\n",
       "    }\n",
       "\n",
       "    .dataframe tbody tr th {\n",
       "        vertical-align: top;\n",
       "    }\n",
       "\n",
       "    .dataframe thead th {\n",
       "        text-align: right;\n",
       "    }\n",
       "</style>\n",
       "<table border=\"1\" class=\"dataframe\">\n",
       "  <thead>\n",
       "    <tr style=\"text-align: right;\">\n",
       "      <th></th>\n",
       "      <th>rock</th>\n",
       "      <th>paper</th>\n",
       "      <th>scissors</th>\n",
       "    </tr>\n",
       "  </thead>\n",
       "  <tbody>\n",
       "    <tr>\n",
       "      <th>0</th>\n",
       "      <td>rock01-000.png</td>\n",
       "      <td>paper01-000.png</td>\n",
       "      <td>scissors01-000.png</td>\n",
       "    </tr>\n",
       "    <tr>\n",
       "      <th>1</th>\n",
       "      <td>rock01-001.png</td>\n",
       "      <td>paper01-001.png</td>\n",
       "      <td>scissors01-001.png</td>\n",
       "    </tr>\n",
       "    <tr>\n",
       "      <th>2</th>\n",
       "      <td>rock01-002.png</td>\n",
       "      <td>paper01-002.png</td>\n",
       "      <td>scissors01-002.png</td>\n",
       "    </tr>\n",
       "    <tr>\n",
       "      <th>3</th>\n",
       "      <td>rock01-003.png</td>\n",
       "      <td>paper01-003.png</td>\n",
       "      <td>scissors01-003.png</td>\n",
       "    </tr>\n",
       "    <tr>\n",
       "      <th>4</th>\n",
       "      <td>rock01-004.png</td>\n",
       "      <td>paper01-004.png</td>\n",
       "      <td>scissors01-004.png</td>\n",
       "    </tr>\n",
       "  </tbody>\n",
       "</table>\n",
       "</div>"
      ],
      "text/plain": [
       "             rock            paper            scissors\n",
       "0  rock01-000.png  paper01-000.png  scissors01-000.png\n",
       "1  rock01-001.png  paper01-001.png  scissors01-001.png\n",
       "2  rock01-002.png  paper01-002.png  scissors01-002.png\n",
       "3  rock01-003.png  paper01-003.png  scissors01-003.png\n",
       "4  rock01-004.png  paper01-004.png  scissors01-004.png"
      ]
     },
     "execution_count": 4,
     "metadata": {},
     "output_type": "execute_result"
    }
   ],
   "source": [
    "train_df.head()"
   ]
  },
  {
   "cell_type": "code",
   "execution_count": 5,
   "metadata": {},
   "outputs": [
    {
     "data": {
      "text/html": [
       "<div>\n",
       "<style scoped>\n",
       "    .dataframe tbody tr th:only-of-type {\n",
       "        vertical-align: middle;\n",
       "    }\n",
       "\n",
       "    .dataframe tbody tr th {\n",
       "        vertical-align: top;\n",
       "    }\n",
       "\n",
       "    .dataframe thead th {\n",
       "        text-align: right;\n",
       "    }\n",
       "</style>\n",
       "<table border=\"1\" class=\"dataframe\">\n",
       "  <thead>\n",
       "    <tr style=\"text-align: right;\">\n",
       "      <th></th>\n",
       "      <th>rock</th>\n",
       "      <th>paper</th>\n",
       "      <th>scissors</th>\n",
       "    </tr>\n",
       "  </thead>\n",
       "  <tbody>\n",
       "    <tr>\n",
       "      <th>0</th>\n",
       "      <td>testrock01-00.png</td>\n",
       "      <td>testpaper01-00.png</td>\n",
       "      <td>testscissors01-00.png</td>\n",
       "    </tr>\n",
       "    <tr>\n",
       "      <th>1</th>\n",
       "      <td>testrock01-01.png</td>\n",
       "      <td>testpaper01-01.png</td>\n",
       "      <td>testscissors01-01.png</td>\n",
       "    </tr>\n",
       "    <tr>\n",
       "      <th>2</th>\n",
       "      <td>testrock01-02.png</td>\n",
       "      <td>testpaper01-02.png</td>\n",
       "      <td>testscissors01-02.png</td>\n",
       "    </tr>\n",
       "    <tr>\n",
       "      <th>3</th>\n",
       "      <td>testrock01-03.png</td>\n",
       "      <td>testpaper01-03.png</td>\n",
       "      <td>testscissors01-03.png</td>\n",
       "    </tr>\n",
       "    <tr>\n",
       "      <th>4</th>\n",
       "      <td>testrock01-04.png</td>\n",
       "      <td>testpaper01-04.png</td>\n",
       "      <td>testscissors01-04.png</td>\n",
       "    </tr>\n",
       "  </tbody>\n",
       "</table>\n",
       "</div>"
      ],
      "text/plain": [
       "                rock               paper               scissors\n",
       "0  testrock01-00.png  testpaper01-00.png  testscissors01-00.png\n",
       "1  testrock01-01.png  testpaper01-01.png  testscissors01-01.png\n",
       "2  testrock01-02.png  testpaper01-02.png  testscissors01-02.png\n",
       "3  testrock01-03.png  testpaper01-03.png  testscissors01-03.png\n",
       "4  testrock01-04.png  testpaper01-04.png  testscissors01-04.png"
      ]
     },
     "execution_count": 5,
     "metadata": {},
     "output_type": "execute_result"
    }
   ],
   "source": [
    "valid_df.head()"
   ]
  },
  {
   "cell_type": "code",
   "execution_count": 6,
   "metadata": {},
   "outputs": [
    {
     "data": {
      "image/png": "[encoded data removed]",
      "text/plain": [
       "<Figure size 432x288 with 3 Axes>"
      ]
     },
     "metadata": {
      "needs_background": "light"
     },
     "output_type": "display_data"
    }
   ],
   "source": [
    "index = 200\n",
    "fig, ax = plt.subplots(1, 3)\n",
    "ax[0].imshow(cv2.cvtColor(cv2.imread(train_dir + 'rock/' + train_df.iloc[index]['rock']), cv2.COLOR_BGR2RGB))\n",
    "ax[1].imshow(cv2.cvtColor(cv2.imread(train_dir + 'paper/' + train_df.iloc[index]['paper']), cv2.COLOR_BGR2RGB))\n",
    "ax[2].imshow(cv2.cvtColor(cv2.imread(train_dir + 'scissors/' + train_df.iloc[index]['scissors']), cv2.COLOR_BGR2RGB))\n",
    "plt.show()"
   ]
  },
  {
   "cell_type": "code",
   "execution_count": 7,
   "metadata": {},
   "outputs": [],
   "source": [
    "img_size = 75\n",
    "train_batch_size = 64\n",
    "valid_batch_size = 32\n",
    "epochs = 15\n",
    "train_steps_per_epoch = len(train_df)*3//train_batch_size\n",
    "valid_steps_per_epoch = len(valid_df)*3//valid_batch_size"
   ]
  },
  {
   "cell_type": "code",
   "execution_count": 8,
   "metadata": {},
   "outputs": [
    {
     "name": "stdout",
     "output_type": "stream",
     "text": [
      "Found 2520 images belonging to 3 classes.\n",
      "Found 372 images belonging to 3 classes.\n"
     ]
    }
   ],
   "source": [
    "train_datagen = tf.keras.preprocessing.image.ImageDataGenerator(rescale = 1./255)\n",
    "valid_datagen = tf.keras.preprocessing.image.ImageDataGenerator(rescale = 1./255)\n",
    "\n",
    "train_generator = train_datagen.flow_from_directory(train_dir, target_size=(img_size,img_size), batch_size=train_batch_size, \n",
    "                                                    class_mode='categorical')\n",
    "valid_generator = valid_datagen.flow_from_directory(valid_dir, target_size=(img_size,img_size), \n",
    "                                                              batch_size=valid_batch_size, class_mode='categorical')"
   ]
  },
  {
   "cell_type": "code",
   "execution_count": 9,
   "metadata": {},
   "outputs": [],
   "source": [
    "def get_model():\n",
    "    model = tf.keras.Sequential([\n",
    "        tf.keras.layers.Conv2D(16, 3, padding='same', activation='relu', input_shape=(img_size, img_size, 3)),\n",
    "        tf.keras.layers.MaxPooling2D(pool_size=(2,2)),\n",
    "        tf.keras.layers.Dropout(0.2),\n",
    "        tf.keras.layers.Conv2D(32, 3, padding='same', activation='relu'),\n",
    "        tf.keras.layers.MaxPooling2D(pool_size=(2,2)),\n",
    "        tf.keras.layers.Dropout(0.2),\n",
    "        tf.keras.layers.Conv2D(64, 3, padding='same', activation='relu'),\n",
    "        tf.keras.layers.MaxPooling2D(pool_size=(2,2)),\n",
    "        tf.keras.layers.Dropout(0.2),\n",
    "        tf.keras.layers.Flatten(),\n",
    "        tf.keras.layers.Dense(64, activation='relu'),\n",
    "        tf.keras.layers.Dropout(0.3),\n",
    "        tf.keras.layers.Dense(64, activation='relu'),\n",
    "        tf.keras.layers.Dropout(0.3),\n",
    "        tf.keras.layers.Dense(3, activation='softmax')\n",
    "    ])\n",
    "    return model"
   ]
  },
  {
   "cell_type": "code",
   "execution_count": 10,
   "metadata": {},
   "outputs": [],
   "source": [
    "model = get_model()"
   ]
  },
  {
   "cell_type": "code",
   "execution_count": 11,
   "metadata": {},
   "outputs": [
    {
     "name": "stdout",
     "output_type": "stream",
     "text": [
      "Model: \"sequential\"\n",
      "_________________________________________________________________\n",
      "Layer (type)                 Output Shape              Param #   \n",
      "=================================================================\n",
      "conv2d (Conv2D)              (None, 75, 75, 16)        448       \n",
      "_________________________________________________________________\n",
      "max_pooling2d (MaxPooling2D) (None, 37, 37, 16)        0         \n",
      "_________________________________________________________________\n",
      "dropout (Dropout)            (None, 37, 37, 16)        0         \n",
      "_________________________________________________________________\n",
      "conv2d_1 (Conv2D)            (None, 37, 37, 32)        4640      \n",
      "_________________________________________________________________\n",
      "max_pooling2d_1 (MaxPooling2 (None, 18, 18, 32)        0         \n",
      "_________________________________________________________________\n",
      "dropout_1 (Dropout)          (None, 18, 18, 32)        0         \n",
      "_________________________________________________________________\n",
      "conv2d_2 (Conv2D)            (None, 18, 18, 64)        18496     \n",
      "_________________________________________________________________\n",
      "max_pooling2d_2 (MaxPooling2 (None, 9, 9, 64)          0         \n",
      "_________________________________________________________________\n",
      "dropout_2 (Dropout)          (None, 9, 9, 64)          0         \n",
      "_________________________________________________________________\n",
      "flatten (Flatten)            (None, 5184)              0         \n",
      "_________________________________________________________________\n",
      "dense (Dense)                (None, 64)                331840    \n",
      "_________________________________________________________________\n",
      "dropout_3 (Dropout)          (None, 64)                0         \n",
      "_________________________________________________________________\n",
      "dense_1 (Dense)              (None, 64)                4160      \n",
      "_________________________________________________________________\n",
      "dropout_4 (Dropout)          (None, 64)                0         \n",
      "_________________________________________________________________\n",
      "dense_2 (Dense)              (None, 3)                 195       \n",
      "=================================================================\n",
      "Total params: 359,779\n",
      "Trainable params: 359,779\n",
      "Non-trainable params: 0\n",
      "_________________________________________________________________\n"
     ]
    }
   ],
   "source": [
    "model.summary()"
   ]
  },
  {
   "cell_type": "code",
   "execution_count": 12,
   "metadata": {},
   "outputs": [],
   "source": [
    "model.compile(optimizer='adam', loss='categorical_crossentropy', metrics=['accuracy'])"
   ]
  },
  {
   "cell_type": "code",
   "execution_count": 13,
   "metadata": {},
   "outputs": [
    {
     "name": "stdout",
     "output_type": "stream",
     "text": [
      "WARNING:tensorflow:From <ipython-input-13-74a3f9c83f7d>:2: Model.fit_generator (from tensorflow.python.keras.engine.training) is deprecated and will be removed in a future version.\n",
      "Instructions for updating:\n",
      "Please use Model.fit, which supports generators.\n",
      "WARNING:tensorflow:sample_weight modes were coerced from\n",
      "  ...\n",
      "    to  \n",
      "  ['...']\n",
      "WARNING:tensorflow:sample_weight modes were coerced from\n",
      "  ...\n",
      "    to  \n",
      "  ['...']\n",
      "Train for 39 steps, validate for 11 steps\n",
      "Epoch 1/15\n",
      "39/39 [==============================] - 7s 172ms/step - loss: 1.1036 - accuracy: 0.3616 - val_loss: 1.0952 - val_accuracy: 0.4602\n",
      "Epoch 2/15\n",
      "39/39 [==============================] - 6s 142ms/step - loss: 0.8786 - accuracy: 0.5794 - val_loss: 0.8004 - val_accuracy: 0.6591\n",
      "Epoch 3/15\n",
      "39/39 [==============================] - 5s 138ms/step - loss: 0.2868 - accuracy: 0.8937 - val_loss: 0.6472 - val_accuracy: 0.7585\n",
      "Epoch 4/15\n",
      "39/39 [==============================] - 5s 139ms/step - loss: 0.1107 - accuracy: 0.9650 - val_loss: 0.4451 - val_accuracy: 0.8778\n",
      "Epoch 5/15\n",
      "39/39 [==============================] - 6s 145ms/step - loss: 0.0631 - accuracy: 0.9768 - val_loss: 0.3832 - val_accuracy: 0.8977\n",
      "Epoch 6/15\n",
      "39/39 [==============================] - 5s 140ms/step - loss: 0.0493 - accuracy: 0.9833 - val_loss: 0.4535 - val_accuracy: 0.8977\n",
      "Epoch 7/15\n",
      "39/39 [==============================] - 8s 193ms/step - loss: 0.0275 - accuracy: 0.9874 - val_loss: 0.5910 - val_accuracy: 0.8920\n",
      "Epoch 8/15\n",
      "39/39 [==============================] - 9s 233ms/step - loss: 0.0375 - accuracy: 0.9864 - val_loss: 0.5714 - val_accuracy: 0.9148\n",
      "Epoch 9/15\n",
      "39/39 [==============================] - 9s 230ms/step - loss: 0.0291 - accuracy: 0.9894 - val_loss: 0.5282 - val_accuracy: 0.9290\n",
      "Epoch 10/15\n",
      "39/39 [==============================] - 9s 229ms/step - loss: 0.0247 - accuracy: 0.9882 - val_loss: 0.4864 - val_accuracy: 0.8693\n",
      "Epoch 11/15\n",
      "39/39 [==============================] - 9s 237ms/step - loss: 0.0416 - accuracy: 0.9825 - val_loss: 0.5108 - val_accuracy: 0.9261\n",
      "Epoch 12/15\n",
      "39/39 [==============================] - 9s 229ms/step - loss: 0.0246 - accuracy: 0.9923 - val_loss: 0.4514 - val_accuracy: 0.8977\n",
      "Epoch 13/15\n",
      "39/39 [==============================] - 9s 229ms/step - loss: 0.0174 - accuracy: 0.9927 - val_loss: 0.3556 - val_accuracy: 0.9261\n",
      "Epoch 14/15\n",
      "39/39 [==============================] - 9s 229ms/step - loss: 0.0147 - accuracy: 0.9943 - val_loss: 0.3808 - val_accuracy: 0.9290\n",
      "Epoch 15/15\n",
      "39/39 [==============================] - 9s 229ms/step - loss: 0.0187 - accuracy: 0.9927 - val_loss: 0.4170 - val_accuracy: 0.9119\n"
     ]
    }
   ],
   "source": [
    "history = model.fit_generator(train_generator, validation_data=valid_generator, steps_per_epoch=train_steps_per_epoch, \n",
    "                              validation_steps=valid_steps_per_epoch, epochs=epochs, verbose=1)"
   ]
  },
  {
   "cell_type": "code",
   "execution_count": 14,
   "metadata": {},
   "outputs": [
    {
     "data": {
      "image/png": "[encoded data removed]",
      "text/plain": [
       "<Figure size 432x288 with 1 Axes>"
      ]
     },
     "metadata": {
      "needs_background": "light"
     },
     "output_type": "display_data"
    }
   ],
   "source": [
    "plt.plot(history.history['accuracy'], 'r', label='Training accuracy')\n",
    "plt.plot(history.history['val_accuracy'], 'b', label='Validation accuracy')\n",
    "plt.title('Training and validation accuracy')\n",
    "plt.legend(loc=0)\n",
    "plt.show()"
   ]
  },
  {
   "cell_type": "code",
   "execution_count": 15,
   "metadata": {},
   "outputs": [],
   "source": [
    "model.save('rock_paper_scissor.h5')"
   ]
  }
 ],
 "metadata": {
  "kernelspec": {
   "display_name": "Python 3",
   "language": "python",
   "name": "python3"
  },
  "language_info": {
   "codemirror_mode": {
    "name": "ipython",
    "version": 3
   },
   "file_extension": ".py",
   "mimetype": "text/x-python",
   "name": "python",
   "nbconvert_exporter": "python",
   "pygments_lexer": "ipython3",
   "version": "3.7.7"
  }
 },
 "nbformat": 4,
 "nbformat_minor": 4
}
